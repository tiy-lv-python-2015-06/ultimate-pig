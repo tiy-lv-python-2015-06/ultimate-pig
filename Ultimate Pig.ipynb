{
 "cells": [
  {
   "cell_type": "code",
   "execution_count": null,
   "metadata": {
    "collapsed": true
   },
   "outputs": [],
   "source": [
    "from ultimate_pig import Game, Turn, Player\n",
    "import statistics as st\n",
    "import random\n",
    "import matplotlib.pyplot as plt\n",
    "%matplotlib inline"
   ]
  },
  {
   "cell_type": "code",
   "execution_count": null,
   "metadata": {
    "collapsed": true
   },
   "outputs": [],
   "source": [
    "player = Player(\"Bitchin\")\n",
    "game = Game(player)"
   ]
  },
  {
   "cell_type": "code",
   "execution_count": null,
   "metadata": {
    "collapsed": false
   },
   "outputs": [],
   "source": [
    "game.start()"
   ]
  },
  {
   "cell_type": "code",
   "execution_count": null,
   "metadata": {
    "collapsed": false
   },
   "outputs": [],
   "source": [
    "sim1000results = []\n",
    "for i in range(1000):\n",
    "    player = Player(\"Bitchin\")\n",
    "    game = Game(player)\n",
    "    sim1000results.append(game.start())"
   ]
  },
  {
   "cell_type": "code",
   "execution_count": null,
   "metadata": {
    "collapsed": false
   },
   "outputs": [],
   "source": [
    "mean_1000 = st.mean(sim1000results)\n",
    "stdev_1000 = st.stdev(sim1000results)"
   ]
  },
  {
   "cell_type": "code",
   "execution_count": null,
   "metadata": {
    "collapsed": false
   },
   "outputs": [],
   "source": [
    "print(mean_1000)\n",
    "print(stdev_1000)"
   ]
  },
  {
   "cell_type": "code",
   "execution_count": null,
   "metadata": {
    "collapsed": false
   },
   "outputs": [],
   "source": [
    "class CompGuy(Player):\n",
    "    def go_again(self, score):\n",
    "        if score >= 10:\n",
    "            return False\n",
    "        else:\n",
    "            return True"
   ]
  },
  {
   "cell_type": "code",
   "execution_count": 108,
   "metadata": {
    "collapsed": true
   },
   "outputs": [],
   "source": [
    "def more_trials(n, comp_strat=Player):\n",
    "    results = []\n",
    "    for _ in range(n):\n",
    "        player = comp_strat(\"Bitchin\")\n",
    "        game = Game(player)\n",
    "        results.append(game.start())\n",
    "    return (results)"
   ]
  },
  {
   "cell_type": "code",
   "execution_count": null,
   "metadata": {
    "collapsed": false
   },
   "outputs": [],
   "source": [
    "more_trials(1000, CompGuy)"
   ]
  },
  {
   "cell_type": "code",
   "execution_count": null,
   "metadata": {
    "collapsed": true
   },
   "outputs": [],
   "source": [
    "class CompGuy2(Player):\n",
    "    def go_again(self, score):\n",
    "        if score >= 20:\n",
    "            return False\n",
    "        else:\n",
    "            return True"
   ]
  },
  {
   "cell_type": "code",
   "execution_count": null,
   "metadata": {
    "collapsed": true
   },
   "outputs": [],
   "source": [
    "class CompGuy18(Player):\n",
    "    def go_again(self, score):\n",
    "        if score >= 18:\n",
    "            return False\n",
    "        else:\n",
    "            return True"
   ]
  },
  {
   "cell_type": "code",
   "execution_count": null,
   "metadata": {
    "collapsed": true
   },
   "outputs": [],
   "source": [
    "class CrazyComp(Player):\n",
    "    def go_again(self, score):\n",
    "        if score >= 50:\n",
    "            return False\n",
    "        else:\n",
    "            return True"
   ]
  },
  {
   "cell_type": "code",
   "execution_count": null,
   "metadata": {
    "collapsed": false
   },
   "outputs": [],
   "source": [
    "more_trials(1000, CompGuy2)"
   ]
  },
  {
   "cell_type": "code",
   "execution_count": 109,
   "metadata": {
    "collapsed": false
   },
   "outputs": [],
   "source": [
    "basic_trials = more_trials(10000, Player)\n",
    "compguy_trials = more_trials(10000, CompGuy)\n",
    "compguy2_trials = more_trials(10000, CompGuy2)\n",
    "crazycomp_trials = more_trials(10000, CrazyComp)\n",
    "compguy18_trials = more_trials(10000, CompGuy18)"
   ]
  },
  {
   "cell_type": "code",
   "execution_count": 118,
   "metadata": {
    "collapsed": false
   },
   "outputs": [],
   "source": [
    "basic_mean = st.mean(basic_trials)\n",
    "basic_stdev = st.pstdev(basic_trials)\n",
    "compguy_mean = st.mean(compguy_trials)\n",
    "compguy_stdev = st.pstdev(compguy_trials)\n",
    "compguy2_mean = st.mean(compguy2_trials)\n",
    "compguy2_stdev = st.pstdev(compguy2_trials)\n",
    "crazycomp_mean = st.mean(crazycomp_trials)\n",
    "crazycomp_stdev = st.pstdev(crazycomp_trials)\n",
    "compguy18_mean = st.mean(compguy18_trials)\n",
    "compguy18_stdev = st.pstdev(compguy18_trials)"
   ]
  },
  {
   "cell_type": "code",
   "execution_count": 120,
   "metadata": {
    "collapsed": false
   },
   "outputs": [
    {
     "data": {
      "text/plain": [
       "(23.4429, 5.2210094416693025)"
      ]
     },
     "execution_count": 120,
     "metadata": {},
     "output_type": "execute_result"
    }
   ],
   "source": [
    "basic_mean, basic_stdev"
   ]
  },
  {
   "cell_type": "code",
   "execution_count": 121,
   "metadata": {
    "collapsed": false
   },
   "outputs": [
    {
     "data": {
      "text/plain": [
       "(47.9467, 15.426569907468089)"
      ]
     },
     "execution_count": 121,
     "metadata": {},
     "output_type": "execute_result"
    }
   ],
   "source": [
    "compguy_mean, compguy_stdev"
   ]
  },
  {
   "cell_type": "code",
   "execution_count": 122,
   "metadata": {
    "collapsed": false
   },
   "outputs": [
    {
     "data": {
      "text/plain": [
       "(56.6625, 27.803139998029)"
      ]
     },
     "execution_count": 122,
     "metadata": {},
     "output_type": "execute_result"
    }
   ],
   "source": [
    "compguy2_mean, compguy2_stdev"
   ]
  },
  {
   "cell_type": "code",
   "execution_count": 123,
   "metadata": {
    "collapsed": false
   },
   "outputs": [
    {
     "data": {
      "text/plain": [
       "(35.0985, 40.6480060734841)"
      ]
     },
     "execution_count": 123,
     "metadata": {},
     "output_type": "execute_result"
    }
   ],
   "source": [
    "crazycomp_mean, crazycomp_stdev"
   ]
  },
  {
   "cell_type": "code",
   "execution_count": 124,
   "metadata": {
    "collapsed": false
   },
   "outputs": [
    {
     "data": {
      "text/plain": [
       "(56.7454, 25.699054045625882)"
      ]
     },
     "execution_count": 124,
     "metadata": {},
     "output_type": "execute_result"
    }
   ],
   "source": [
    "compguy18_mean, compguy18_stdev"
   ]
  },
  {
   "cell_type": "code",
   "execution_count": 110,
   "metadata": {
    "collapsed": false
   },
   "outputs": [
    {
     "data": {
      "image/png": "[encoded data removed]",
      "text/plain": [
       "<matplotlib.figure.Figure at 0x110ef6f60>"
      ]
     },
     "metadata": {},
     "output_type": "display_data"
    }
   ],
   "source": [
    "plt.hist(basic_trials)\n",
    "plt.ylabel(\"Number of Games\")\n",
    "plt.xlabel(\"Game Score\")\n",
    "plt.title(\"Noob Guy\")\n",
    "ymin, ymax = plt.ylim()\n",
    "mean_a = st.mean(basic_trials)\n",
    "stdev_a = st.pstdev(basic_trials)\n",
    "plt.vlines(mean_a, ymin, ymax, color=\"orange\")\n",
    "plt.vlines([mean_a - 2* stdev_a, mean_a - stdev_a, mean_a + stdev_a, mean_a + 2 * stdev_a],\n",
    "           ymin, ymax, linestyles=\"dashed\", color=\"red\")\n",
    "plt.show()\n",
    "plt.show()"
   ]
  },
  {
   "cell_type": "code",
   "execution_count": 126,
   "metadata": {
    "collapsed": false
   },
   "outputs": [
    {
     "data": {
      "text/plain": [
       "(23.4429, 5.2210094416693025)"
      ]
     },
     "execution_count": 126,
     "metadata": {},
     "output_type": "execute_result"
    }
   ],
   "source": [
    "basic_mean, basic_stdev"
   ]
  },
  {
   "cell_type": "code",
   "execution_count": null,
   "metadata": {
    "collapsed": true
   },
   "outputs": [],
   "source": [
    "# Noob Guy shows a mean of 23.4 with a deviation of 5.2"
   ]
  },
  {
   "cell_type": "code",
   "execution_count": 111,
   "metadata": {
    "collapsed": false
   },
   "outputs": [
    {
     "data": {
      "image/png": "[encoded data removed]",
      "text/plain": [
       "<matplotlib.figure.Figure at 0x110ef6860>"
      ]
     },
     "metadata": {},
     "output_type": "display_data"
    }
   ],
   "source": [
    "plt.hist(compguy_trials)\n",
    "plt.ylabel(\"Number of Games\")\n",
    "plt.xlabel(\"Game Score\")\n",
    "plt.title(\"CompGuy\")\n",
    "ymin, ymax = plt.ylim()\n",
    "mean_a = st.mean(compguy_trials)\n",
    "stdev_a = st.pstdev(compguy_trials)\n",
    "plt.vlines(mean_a, ymin, ymax, color=\"orange\")\n",
    "plt.vlines([mean_a - 2* stdev_a, mean_a - stdev_a, mean_a + stdev_a, mean_a + 2 * stdev_a],\n",
    "           ymin, ymax, linestyles=\"dashed\", color=\"red\")\n",
    "plt.show()\n",
    "plt.show()"
   ]
  },
  {
   "cell_type": "code",
   "execution_count": null,
   "metadata": {
    "collapsed": true
   },
   "outputs": [],
   "source": [
    "compguy_mean, compguy_stdev"
   ]
  },
  {
   "cell_type": "code",
   "execution_count": null,
   "metadata": {
    "collapsed": true
   },
   "outputs": [],
   "source": [
    "# CompGuy shows a mean of 47.9 with a deviation of 15.4"
   ]
  },
  {
   "cell_type": "code",
   "execution_count": 112,
   "metadata": {
    "collapsed": false
   },
   "outputs": [
    {
     "data": {
      "image/png": "[encoded data removed]",
      "text/plain": [
       "<matplotlib.figure.Figure at 0x110bfe048>"
      ]
     },
     "metadata": {},
     "output_type": "display_data"
    }
   ],
   "source": [
    "plt.hist(compguy2_trials)\n",
    "plt.ylabel(\"Number of Games\")\n",
    "plt.xlabel(\"Game Score\")\n",
    "plt.title(\"CompGuy2\")\n",
    "ymin, ymax = plt.ylim()\n",
    "mean_a = st.mean(compguy2_trials)\n",
    "stdev_a = st.pstdev(compguy2_trials)\n",
    "plt.vlines(mean_a, ymin, ymax, color=\"orange\")\n",
    "plt.vlines([mean_a - 2* stdev_a, mean_a - stdev_a, mean_a + stdev_a, mean_a + 2 * stdev_a],\n",
    "           ymin, ymax, linestyles=\"dashed\", color=\"red\")\n",
    "plt.show()\n",
    "plt.show()"
   ]
  },
  {
   "cell_type": "code",
   "execution_count": 125,
   "metadata": {
    "collapsed": false
   },
   "outputs": [
    {
     "data": {
      "text/plain": [
       "(56.6625, 27.803139998029)"
      ]
     },
     "execution_count": 125,
     "metadata": {},
     "output_type": "execute_result"
    }
   ],
   "source": [
    "compguy2_mean, compguy2_stdev"
   ]
  },
  {
   "cell_type": "code",
   "execution_count": null,
   "metadata": {
    "collapsed": true
   },
   "outputs": [],
   "source": [
    "# CompGuy2 shows a mean of 56.6 with a deviation of 27.8"
   ]
  },
  {
   "cell_type": "code",
   "execution_count": 113,
   "metadata": {
    "collapsed": false
   },
   "outputs": [
    {
     "data": {
      "image/png": "[encoded data removed]",
      "text/plain": [
       "<matplotlib.figure.Figure at 0x112e46be0>"
      ]
     },
     "metadata": {},
     "output_type": "display_data"
    }
   ],
   "source": [
    "plt.hist(crazycomp_trials)\n",
    "plt.ylabel(\"Number of Games\")\n",
    "plt.xlabel(\"Game Score\")\n",
    "plt.title(\"CrazyComp\")\n",
    "ymin, ymax = plt.ylim()\n",
    "mean_a = st.mean(crazycomp_trials)\n",
    "stdev_a = st.pstdev(crazycomp_trials)\n",
    "plt.vlines(mean_a, ymin, ymax, color=\"orange\")\n",
    "plt.vlines([mean_a - 2* stdev_a, mean_a - stdev_a, mean_a + stdev_a, mean_a + 2 * stdev_a],\n",
    "           ymin, ymax, linestyles=\"dashed\", color=\"red\")\n",
    "plt.show()\n",
    "plt.show()"
   ]
  },
  {
   "cell_type": "code",
   "execution_count": 127,
   "metadata": {
    "collapsed": false
   },
   "outputs": [
    {
     "data": {
      "text/plain": [
       "(35.0985, 40.6480060734841)"
      ]
     },
     "execution_count": 127,
     "metadata": {},
     "output_type": "execute_result"
    }
   ],
   "source": [
    "crazycomp_mean, crazycomp_stdev"
   ]
  },
  {
   "cell_type": "code",
   "execution_count": null,
   "metadata": {
    "collapsed": true
   },
   "outputs": [],
   "source": [
    "# CrazyComp shows a mean of 35 with a deviation of 40.6"
   ]
  },
  {
   "cell_type": "code",
   "execution_count": 114,
   "metadata": {
    "collapsed": false
   },
   "outputs": [
    {
     "data": {
      "image/png": "[encoded data removed]",
      "text/plain": [
       "<matplotlib.figure.Figure at 0x110c9ea90>"
      ]
     },
     "metadata": {},
     "output_type": "display_data"
    }
   ],
   "source": [
    "plt.hist(compguy18_trials)\n",
    "plt.ylabel(\"Number of Games\")\n",
    "plt.xlabel(\"Game Score\")\n",
    "plt.title(\"CompGuy18\")\n",
    "ymin, ymax = plt.ylim()\n",
    "mean_a = st.mean(compguy18_trials)\n",
    "stdev_a = st.pstdev(compguy18_trials)\n",
    "plt.vlines(mean_a, ymin, ymax, color=\"orange\")\n",
    "plt.vlines([mean_a - 2* stdev_a, mean_a - stdev_a, mean_a + stdev_a, mean_a + 2 * stdev_a],\n",
    "           ymin, ymax, linestyles=\"dashed\", color=\"red\")\n",
    "plt.show()\n",
    "plt.show()"
   ]
  },
  {
   "cell_type": "code",
   "execution_count": 128,
   "metadata": {
    "collapsed": false
   },
   "outputs": [
    {
     "data": {
      "text/plain": [
       "(56.7454, 25.699054045625882)"
      ]
     },
     "execution_count": 128,
     "metadata": {},
     "output_type": "execute_result"
    }
   ],
   "source": [
    "compguy18_mean, compguy18_stdev"
   ]
  },
  {
   "cell_type": "code",
   "execution_count": null,
   "metadata": {
    "collapsed": true
   },
   "outputs": [],
   "source": [
    "# CompGuy18 shows a mean of 56.7 with a deviation of 25.6"
   ]
  },
  {
   "cell_type": "code",
   "execution_count": 133,
   "metadata": {
    "collapsed": false
   },
   "outputs": [
    {
     "data": {
      "image/png": "[encoded data removed]",
      "text/plain": [
       "<matplotlib.figure.Figure at 0x113956240>"
      ]
     },
     "metadata": {},
     "output_type": "display_data"
    }
   ],
   "source": [
    "plt.plot(list(basic_trials), label=\"Noob Guy\")\n",
    "plt.plot(list(compguy_trials), label=\"CompGuy\")\n",
    "plt.plot(list(compguy2_trials), label=\"CompGuy2\")\n",
    "plt.plot(list(crazycomp_trials), label=\"CrazyComp\")\n",
    "plt.plot(list(compguy18_trials), label=\"CompGuy18\")\n",
    "plt.ylabel(\"Score\")\n",
    "plt.xlabel(\"Games\")\n",
    "plt.title(\"All Players\")\n",
    "ymin, ymax = plt.ylim(+75)\n",
    "xmin, xmax = plt.xlim()\n",
    "plt.legend(loc=1, fontsize='small')\n",
    "plt.show()"
   ]
  },
  {
   "cell_type": "code",
   "execution_count": 129,
   "metadata": {
    "collapsed": true
   },
   "outputs": [],
   "source": [
    "# This just looks cool, but it is also a nice visual representaion of scores"
   ]
  },
  {
   "cell_type": "code",
   "execution_count": null,
   "metadata": {
    "collapsed": true
   },
   "outputs": [],
   "source": [
    "# CompGuy2 and CompGuy18 are the better stratiges. CrazyComp, while able to acheive high scores is\n",
    "# also recording 50% of the games at a score of 0"
   ]
  }
 ],
 "metadata": {
  "kernelspec": {
   "display_name": "Python 3",
   "language": "python",
   "name": "python3"
  },
  "language_info": {
   "codemirror_mode": {
    "name": "ipython",
    "version": 3
   },
   "file_extension": ".py",
   "mimetype": "text/x-python",
   "name": "python",
   "nbconvert_exporter": "python",
   "pygments_lexer": "ipython3",
   "version": "3.4.3"
  }
 },
 "nbformat": 4,
 "nbformat_minor": 0
}
