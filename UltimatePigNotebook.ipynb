{
 "cells": [
  {
   "cell_type": "code",
   "execution_count": 28,
   "metadata": {
    "collapsed": false
   },
   "outputs": [],
   "source": [
    "import matplotlib.pyplot as plt\n",
    "import random\n",
    "import statistics\n",
    "\n",
    "class Player:\n",
    "    \"\"\" Records roll results\n",
    "    knows name   # self.name\n",
    "    knows score  # self.score, 0 at init\n",
    "    determines roll or hold  # roll_again()\n",
    "    Basic 1 turn only\n",
    "    \"\"\"\n",
    "\n",
    "    def __init__(self, name=\"Basic\"):\n",
    "        self.name = name\n",
    "        self.score = 0\n",
    "        self.rolls = []\n",
    "\n",
    "    def record_roll(self, roll):\n",
    "        \"\"\"Die tells Player what the roll was, Player records in rolls list\"\"\"\n",
    "        self.rolls.append(roll)\n",
    "\n",
    "\n",
    "    def roll_again(self, turn_score):\n",
    "        # answer = input(\"Roll again?\").lower()\n",
    "        # if answer[0] == 'y':\n",
    "        #     return True\n",
    "        # else:\n",
    "        return False\n",
    "\n",
    "    def __str__(self):\n",
    "        return \"Player: {} Score: {} rolls: {}\".format(self.name, self.score, self.rolls\n",
    "                                                       )\n",
    "\n",
    "class Turn:\n",
    "    \"\"\"rolls the die\n",
    "        records results in turn_result list\n",
    "        tells player the turn_result sum at the end of the turn\n",
    "        asks player to roll again\n",
    "    \"\"\"\n",
    "    def __init__(self, player, die):\n",
    "        self.turn_score = 0\n",
    "        self.player = player\n",
    "        self.turn_over = False\n",
    "        self.die = die\n",
    "\n",
    "    def record_roll(self, roll):\n",
    "        if roll == 1:\n",
    "            self.turn_over = True\n",
    "            self.turn_score = 0\n",
    "        else:\n",
    "            self.turn_score += roll\n",
    "\n",
    "    def run(self):\n",
    "        while not self.turn_over:\n",
    "            self.go()\n",
    "\n",
    "    def go(self):\n",
    "        roll = self.die.roll()\n",
    "        self.record_roll(roll)\n",
    "        self.player.record_roll(roll)\n",
    "        #print(\"{} you rolled a {} and your turn score is {}\".format(self.player.name, roll, self.turn_score))\n",
    "        if not self.turn_over:\n",
    "            self.turn_over = not self.player.roll_again(self.turn_score)\n",
    "\n",
    "\n",
    "class Die:\n",
    "    def roll(self):\n",
    "        return random.randint(1,6)\n",
    "\n",
    "class Game:\n",
    "\n",
    "    def __init__(self, player):\n",
    "        # HELP! Is this redundant? can I just do self.num_turns = 0?\n",
    "        # self.number_of_turns = number_of_turns\n",
    "        # need a counter so can max out at 7\n",
    "        self.number_of_turns = 0\n",
    "        self.die = Die()\n",
    "        self.player = player\n",
    "        self.game_score = 0\n",
    "        self.is_win = False\n",
    "        self.is_game_over = False\n",
    "\n",
    "    def start(self):\n",
    "        all_scores = []\n",
    "        while not self.is_win and self.number_of_turns < 7 and not self.is_game_over:\n",
    "            turn = Turn(self.player, self.die)\n",
    "            turn.run()\n",
    "            self.game_score += turn.turn_score\n",
    "            self.number_of_turns += 1\n",
    "            ## HELP! Where do I put my Turn Count logic???\n",
    "            #print(\"{}'s score is now {}\".format(self.player, self.player.score))\n",
    "            ##TODO: when to run winner() to determine winner. every roll?\n",
    "        if self.number_of_turns >= 7:\n",
    "                #IF GAME IS OVER Do...\n",
    "                #rgather score\n",
    "                all_scores = self.game_score\n",
    "                #print(self.game_score)\n",
    "                self.is_game_over = True\n",
    "                turn.turn_over = True\n",
    "                # HOW TO STOP\n",
    "        return all_scores\n",
    "\n",
    "\n",
    "    def winner(self):\n",
    "        if self.player.score < 100:\n",
    "            return False\n",
    "        else:\n",
    "            return True\n",
    "\n",
    "class BasicPlayer(Player):\n",
    "\n",
    "    # TODO HELP! If Basic Player always rolls 1 but TURN calls die.roll()\n",
    "    #  and die.roll() makes it random, how do i let BasicPlayer override\n",
    "    #  all of that and make die.roll() return 1?!\n",
    "    # ANSWER: YOU DON'T! BasicPlayer just ROLLS ONCE\n",
    "    def roll_again(self, turn_score):\n",
    "        #answer = input(\"Roll again?\").lower()\n",
    "        return False\n",
    "\n",
    "\n",
    "\n",
    "class ScaredPlayer(Player):\n",
    "    \"\"\"Plays until reaches one standard deviation above the mean of Basic Player then holds\"\"\"\n",
    "\n",
    "    def __init__(self):\n",
    "        super().__init__(\"Scaredycat\")\n",
    "\n",
    "    def roll_again(self, turn_score):\n",
    "        if turn_score > 25:\n",
    "            return False\n",
    "        else:\n",
    "            return False\n",
    "        \n",
    "\n",
    "\n",
    "class BrilliantPlayer(Player):\n",
    "\n",
    "    def __init__(self):\n",
    "        super().__init__(\"BrilliantDiva\")\n",
    "\n",
    "    def roll_again(self, turn_score):\n",
    "        pass\n",
    "\n",
    "\n",
    "# if __name__ == '__main__':\n",
    "#     player = BasicPlayer(\"URSoBasic\")\n",
    "# \n",
    "#     game = Game(player)\n",
    "#     print(game.game_score)\n",
    "#     game.start()\n",
    "\n",
    "\n",
    "\n",
    "# plot your number of trials\n",
    "\n",
    "# chart mean, standard dev, showing the normal distro\n",
    "#prove which strategy is best\n",
    "#look up a winning strategy, implement it and then graph results\n",
    "\n",
    "#ran trials till hit a 1, plotted a hist of how many it took to get to before hit one\n",
    "\n",
    "#base player's mean is usually right around 27"
   ]
  },
  {
   "cell_type": "code",
   "execution_count": 36,
   "metadata": {
    "collapsed": true
   },
   "outputs": [],
   "source": [
    "%matplotlib inline\n",
    "#Launch BasicPlayer Game 10 trials"
   ]
  },
  {
   "cell_type": "code",
   "execution_count": 37,
   "metadata": {
    "collapsed": false
   },
   "outputs": [],
   "source": [
    "all_trial_scores = []\n",
    "#for i in range(10-1)\n",
    "for i in range(10):\n",
    "    player = BasicPlayer(\"URSoBasic\")\n",
    "    game = Game(player)\n",
    "    all_trial_scores.append(game.start())"
   ]
  },
  {
   "cell_type": "code",
   "execution_count": 38,
   "metadata": {
    "collapsed": false
   },
   "outputs": [
    {
     "data": {
      "text/plain": [
       "[19, 24, 26, 16, 26, 32, 24, 29, 22, 13]"
      ]
     },
     "execution_count": 38,
     "metadata": {},
     "output_type": "execute_result"
    }
   ],
   "source": [
    "all_trial_scores"
   ]
  },
  {
   "cell_type": "code",
   "execution_count": 39,
   "metadata": {
    "collapsed": true
   },
   "outputs": [],
   "source": [
    "# proof that repeater works. Now run trials a meaningful number of times (Roomba did 1000 first)"
   ]
  },
  {
   "cell_type": "code",
   "execution_count": 40,
   "metadata": {
    "collapsed": true
   },
   "outputs": [],
   "source": [
    "all_trial_scores = []\n",
    "#for i in range(1000-1)\n",
    "for i in range(1000):\n",
    "    player = BasicPlayer(\"URSoBasic\")\n",
    "    game = Game(player)\n",
    "    all_trial_scores.append(game.start())"
   ]
  },
  {
   "cell_type": "code",
   "execution_count": 41,
   "metadata": {
    "collapsed": false
   },
   "outputs": [
    {
     "name": "stdout",
     "output_type": "stream",
     "text": [
      "mean for 1000 runs of URSoBasic is 23.168\n",
      "standard deviation for 1000 runs of URSoBasic is 5.362885094474478\n"
     ]
    }
   ],
   "source": [
    "mean = statistics.mean(all_trial_scores)\n",
    "stdev = statistics.stdev(all_trial_scores)\n",
    "print(\"mean for 1000 runs of {} is {}\".format(player.name, mean))\n",
    "print(\"standard deviation for 1000 runs of {} is {}\".format(player.name, stdev))"
   ]
  },
  {
   "cell_type": "code",
   "execution_count": 42,
   "metadata": {
    "collapsed": false
   },
   "outputs": [
    {
     "data": {
      "image/png": "[encoded data removed]",
      "text/plain": [
       "<matplotlib.figure.Figure at 0x10ec51f60>"
      ]
     },
     "metadata": {},
     "output_type": "display_data"
    }
   ],
   "source": [
    "plt.hist(all_trial_scores)\n",
    "plt.xlabel(\"Score\")\n",
    "plt.ylabel(\"Games Played\")\n",
    "ymin,ymax = plt.ylim()\n",
    "plt.title(\"Mean Scores of BasicPlayer's Gameplay\")\n",
    "plt.vlines(mean, ymin, ymax, color=\"green\")\n",
    "plt.vlines([mean - 2 * stdev, mean - stdev, mean + stdev, mean + 2 * stdev], ymin, ymax, color=\"red\")\n",
    "plt.show()\n"
   ]
  },
  {
   "cell_type": "markdown",
   "metadata": {},
   "source": [
    "We see that BasicPlayer's mean score falls at 23. Let's s"
   ]
  }
 ],
 "metadata": {
  "kernelspec": {
   "display_name": "Python 3",
   "language": "python",
   "name": "python3"
  },
  "language_info": {
   "codemirror_mode": {
    "name": "ipython",
    "version": 3
   },
   "file_extension": ".py",
   "mimetype": "text/x-python",
   "name": "python",
   "nbconvert_exporter": "python",
   "pygments_lexer": "ipython3",
   "version": "3.4.3"
  }
 },
 "nbformat": 4,
 "nbformat_minor": 0
}
