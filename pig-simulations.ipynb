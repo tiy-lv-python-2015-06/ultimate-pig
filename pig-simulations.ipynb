{
 "cells": [
  {
   "cell_type": "code",
   "execution_count": 33,
   "metadata": {
    "collapsed": false
   },
   "outputs": [],
   "source": [
    "from ultimate_pig import Player, SolitaireGame\n",
    "#import ultimate_pig\n",
    "import random\n",
    "import matplotlib.pyplot as plt\n",
    "import statistics as st\n",
    "import math"
   ]
  },
  {
   "cell_type": "code",
   "execution_count": 34,
   "metadata": {
    "collapsed": true
   },
   "outputs": [],
   "source": [
    "%matplotlib inline"
   ]
  },
  {
   "cell_type": "code",
   "execution_count": 35,
   "metadata": {
    "collapsed": true
   },
   "outputs": [],
   "source": [
    "class BestPlayer(Player):\n",
    "    \"\"\"\n",
    "        Should decide whether to go again\n",
    "        This is the hold at 30 player\n",
    "    \"\"\"\n",
    "    def go_again(self, turn_score):\n",
    "        # lets come up with some algorithm to decide to go again or not\n",
    "        if turn_score < 30:\n",
    "            return True\n",
    "        else:\n",
    "            return False"
   ]
  },
  {
   "cell_type": "code",
   "execution_count": 36,
   "metadata": {
    "collapsed": true
   },
   "outputs": [],
   "source": [
    "class BetterPlayer(Player):\n",
    "    \"\"\"\n",
    "        Should decide whether to go again\n",
    "        This is the player that tries to calculate to hold or roll\n",
    "        based on score and number of rolls\n",
    "    \"\"\"\n",
    "    def go_again(self, turn_score):\n",
    "        return (turn_score + 11*len(self.rolls)) <= 300"
   ]
  },
  {
   "cell_type": "code",
   "execution_count": 37,
   "metadata": {
    "collapsed": false
   },
   "outputs": [],
   "source": [
    "player1 = Player('Basic')\n",
    "player2 = BetterPlayer('Better')\n",
    "player3 = BestPlayer('Best')"
   ]
  },
  {
   "cell_type": "code",
   "execution_count": 145,
   "metadata": {
    "collapsed": false
   },
   "outputs": [],
   "source": [
    "simBasic1000results = []\n",
    "for i in range(1000):\n",
    "    player = Player('basic')\n",
    "    game = SolitaireGame(player)\n",
    "    simBasic1000results.append(game.start())"
   ]
  },
  {
   "cell_type": "code",
   "execution_count": 146,
   "metadata": {
    "collapsed": false
   },
   "outputs": [
    {
     "data": {
      "text/plain": [
       "23.111"
      ]
     },
     "execution_count": 146,
     "metadata": {},
     "output_type": "execute_result"
    }
   ],
   "source": [
    "st.mean([r for r in simBasic1000results])"
   ]
  },
  {
   "cell_type": "code",
   "execution_count": 147,
   "metadata": {
    "collapsed": false
   },
   "outputs": [
    {
     "data": {
      "text/plain": [
       "5.200834452277826"
      ]
     },
     "execution_count": 147,
     "metadata": {},
     "output_type": "execute_result"
    }
   ],
   "source": [
    "st.pstdev([r for r in simBasic1000results])"
   ]
  },
  {
   "cell_type": "code",
   "execution_count": 148,
   "metadata": {
    "collapsed": true
   },
   "outputs": [],
   "source": [
    "simBetter1000results = []\n",
    "for i in range(1000):\n",
    "    player = BetterPlayer('better')\n",
    "    game = SolitaireGame(player)\n",
    "    simBetter1000results.append(game.start())"
   ]
  },
  {
   "cell_type": "code",
   "execution_count": 149,
   "metadata": {
    "collapsed": false
   },
   "outputs": [
    {
     "data": {
      "text/plain": [
       "32.482"
      ]
     },
     "execution_count": 149,
     "metadata": {},
     "output_type": "execute_result"
    }
   ],
   "source": [
    "st.mean([r for r in simBetter1000results])"
   ]
  },
  {
   "cell_type": "code",
   "execution_count": 150,
   "metadata": {
    "collapsed": false,
    "scrolled": true
   },
   "outputs": [
    {
     "data": {
      "text/plain": [
       "5.200834452277826"
      ]
     },
     "execution_count": 150,
     "metadata": {},
     "output_type": "execute_result"
    }
   ],
   "source": [
    "st.pstdev([r for r in simBasic1000results])"
   ]
  },
  {
   "cell_type": "code",
   "execution_count": 151,
   "metadata": {
    "collapsed": true
   },
   "outputs": [],
   "source": [
    "simBest1000results = []\n",
    "for i in range(1000):\n",
    "    player = BestPlayer('best')\n",
    "    game = SolitaireGame(player)\n",
    "    simBest1000results.append(game.start())"
   ]
  },
  {
   "cell_type": "code",
   "execution_count": 152,
   "metadata": {
    "collapsed": false
   },
   "outputs": [
    {
     "data": {
      "text/plain": [
       "52.899"
      ]
     },
     "execution_count": 152,
     "metadata": {},
     "output_type": "execute_result"
    }
   ],
   "source": [
    "st.mean([r for r in simBest1000results])"
   ]
  },
  {
   "cell_type": "code",
   "execution_count": 153,
   "metadata": {
    "collapsed": false
   },
   "outputs": [
    {
     "data": {
      "text/plain": [
       "5.200834452277826"
      ]
     },
     "execution_count": 153,
     "metadata": {},
     "output_type": "execute_result"
    }
   ],
   "source": [
    "st.pstdev([r for r in simBasic1000results])"
   ]
  },
  {
   "cell_type": "code",
   "execution_count": 130,
   "metadata": {
    "collapsed": true
   },
   "outputs": [],
   "source": [
    "def n_trials(n, player_class=Player):\n",
    "    results = []\n",
    "    for _ in range(n):\n",
    "        player = player_class('Bob')\n",
    "        game = SolitaireGame(player)\n",
    "        results.append(game.start())\n",
    "    return results"
   ]
  },
  {
   "cell_type": "code",
   "execution_count": 131,
   "metadata": {
    "collapsed": false
   },
   "outputs": [],
   "source": [
    "n_basic = n_trials(2000, Player)\n",
    "n_better = n_trials(2000, BetterPlayer)\n",
    "n_best = n_trials(2000, BestPlayer)"
   ]
  },
  {
   "cell_type": "code",
   "execution_count": 132,
   "metadata": {
    "collapsed": false
   },
   "outputs": [
    {
     "data": {
      "image/png": "[encoded data removed]",
      "text/plain": [
       "<matplotlib.figure.Figure at 0x10c9ef400>"
      ]
     },
     "metadata": {},
     "output_type": "display_data"
    }
   ],
   "source": [
    "plt.hist(n_basic)\n",
    "ymin, ymax = plt.ylim()\n",
    "mean_a = st.mean(n_basic)\n",
    "stdev_a = st.pstdev(n_basic)\n",
    "plt.vlines(mean_a, ymin, ymax, color=\"purple\")\n",
    "plt.vlines([mean_a - 2* stdev_a, mean_a - stdev_a, mean_a + stdev_a, mean_a + 2 * stdev_a], ymin, ymax, linestyles=\"dashed\", color=\"red\")\n",
    "plt.show()\n",
    "plt.show()"
   ]
  },
  {
   "cell_type": "code",
   "execution_count": 136,
   "metadata": {
    "collapsed": false
   },
   "outputs": [
    {
     "data": {
      "image/png": "[encoded data removed]",
      "text/plain": [
       "<matplotlib.figure.Figure at 0x10d431400>"
      ]
     },
     "metadata": {},
     "output_type": "display_data"
    }
   ],
   "source": [
    "plt.hist(n_better)\n",
    "ymin, ymax = plt.ylim()\n",
    "mean_b = st.mean(n_better)\n",
    "stdev_b = st.pstdev(n_better)\n",
    "plt.vlines(mean_b, ymin, ymax, color=\"purple\")\n",
    "plt.vlines([mean_b - 2* stdev_b, mean_b - stdev_b, mean_b + stdev_b, mean_b + 2 * stdev_b], ymin, ymax, linestyles=\"dashed\", color=\"red\")\n",
    "plt.show()\n",
    "plt.show()"
   ]
  },
  {
   "cell_type": "code",
   "execution_count": 137,
   "metadata": {
    "collapsed": false
   },
   "outputs": [
    {
     "data": {
      "image/png": "[encoded data removed]",
      "text/plain": [
       "<matplotlib.figure.Figure at 0x10d45b710>"
      ]
     },
     "metadata": {},
     "output_type": "display_data"
    }
   ],
   "source": [
    "plt.hist(n_best)\n",
    "ymin, ymax = plt.ylim()\n",
    "mean_c = st.mean(n_best)\n",
    "stdev_c = st.pstdev(n_best)\n",
    "plt.vlines(mean_c, ymin, ymax, color=\"purple\")\n",
    "plt.vlines([mean_c - 2* stdev_c, mean_c - stdev_c, mean_c + stdev_c, mean_c + 2 * stdev_c], ymin, ymax, linestyles=\"dashed\", color=\"red\")\n",
    "plt.show()\n",
    "plt.show()"
   ]
  },
  {
   "cell_type": "code",
   "execution_count": null,
   "metadata": {
    "collapsed": false
   },
   "outputs": [],
   "source": [
    "## Basic has a mean in the 20s\n",
    "## Better has a mean in the 30s\n",
    "## Best has a mean in the 50s"
   ]
  },
  {
   "cell_type": "code",
   "execution_count": null,
   "metadata": {
    "collapsed": true
   },
   "outputs": [],
   "source": [
    "## they all seem to have to the same std dev of 5.2"
   ]
  },
  {
   "cell_type": "code",
   "execution_count": null,
   "metadata": {
    "collapsed": true
   },
   "outputs": [],
   "source": []
  }
 ],
 "metadata": {
  "kernelspec": {
   "display_name": "Python 3",
   "language": "python",
   "name": "python3"
  },
  "language_info": {
   "codemirror_mode": {
    "name": "ipython",
    "version": 3
   },
   "file_extension": ".py",
   "mimetype": "text/x-python",
   "name": "python",
   "nbconvert_exporter": "python",
   "pygments_lexer": "ipython3",
   "version": "3.4.3"
  }
 },
 "nbformat": 4,
 "nbformat_minor": 0
}
